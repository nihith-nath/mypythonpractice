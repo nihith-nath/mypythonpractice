{
 "cells": [
  {
   "cell_type": "markdown",
   "metadata": {},
   "source": [
    "<center>\n",
    "    <img src=\"https://cf-courses-data.s3.us.cloud-object-storage.appdomain.cloud/IBMDeveloperSkillsNetwork-DS0105EN-SkillsNetwork/labs/Module2/images/SN_web_lightmode.png\" width=\"300\" alt=\"cognitiveclass.ai logo\">\n",
    "</center>\n"
   ]
  },
  {
   "cell_type": "markdown",
   "metadata": {},
   "source": [
    "#### Add your code below following the instructions given in the course\n"
   ]
  },
  {
   "cell_type": "code",
   "execution_count": 11,
   "metadata": {},
   "outputs": [],
   "source": [
    "my_string = \"nihith nath\"\n"
   ]
  },
  {
   "cell_type": "code",
   "execution_count": 12,
   "metadata": {},
   "outputs": [
    {
     "data": {
      "text/plain": [
       "'NIHITH NATH'"
      ]
     },
     "execution_count": 12,
     "metadata": {},
     "output_type": "execute_result"
    }
   ],
   "source": [
    "my_string.upper()"
   ]
  },
  {
   "cell_type": "code",
   "execution_count": 13,
   "metadata": {},
   "outputs": [
    {
     "data": {
      "text/plain": [
       "2"
      ]
     },
     "execution_count": 13,
     "metadata": {},
     "output_type": "execute_result"
    }
   ],
   "source": [
    "my_string.find('h')"
   ]
  },
  {
   "cell_type": "code",
   "execution_count": 14,
   "metadata": {},
   "outputs": [
    {
     "data": {
      "text/plain": [
       "'bihith bath'"
      ]
     },
     "execution_count": 14,
     "metadata": {},
     "output_type": "execute_result"
    }
   ],
   "source": [
    "my_string.replace('n','b')"
   ]
  },
  {
   "cell_type": "markdown",
   "metadata": {},
   "source": [
    "<h3>Fibonacci series</h3>\n"
   ]
  },
  {
   "cell_type": "code",
   "execution_count": 15,
   "metadata": {},
   "outputs": [
    {
     "name": "stdout",
     "output_type": "stream",
     "text": [
      "0\n",
      "1\n",
      "1\n",
      "2\n",
      "3\n",
      "5\n",
      "8\n",
      "13\n",
      "21\n",
      "34\n"
     ]
    }
   ],
   "source": [
    "\n",
    "\n",
    "def fibo(n):\n",
    "    a=0\n",
    "    b=1\n",
    "    print(a)\n",
    "    print(b)\n",
    "    while(n-2>0):\n",
    "            c=a+b\n",
    "            print(c)\n",
    "            a=b\n",
    "            b=c\n",
    "            n=n-1\n",
    "\n",
    "fibo(10)"
   ]
  },
  {
   "cell_type": "markdown",
   "metadata": {},
   "source": [
    "<h3>even odd</h3>"
   ]
  },
  {
   "cell_type": "code",
   "execution_count": 16,
   "metadata": {},
   "outputs": [
    {
     "name": "stdout",
     "output_type": "stream",
     "text": [
      "6 is even\n",
      "27 is odd\n",
      "0 is neither even nor odd\n"
     ]
    }
   ],
   "source": [
    "\n",
    "\n",
    "def evenodd(n):\n",
    "    if(n%2==0 and n!=0):\n",
    "        print(n , \"is even\")\n",
    "    elif(n==0):\n",
    "        print(n , \"is neither even nor odd\")\n",
    "    else:\n",
    "        print(n,\"is odd\")\n",
    "        \n",
    "evenodd(6)  \n",
    "        \n",
    "evenodd(27)  \n",
    "evenodd(0)\n",
    "    "
   ]
  },
  {
   "cell_type": "markdown",
   "metadata": {},
   "source": [
    "<h3>prime or not</h3>\n"
   ]
  },
  {
   "cell_type": "code",
   "execution_count": 17,
   "metadata": {},
   "outputs": [
    {
     "name": "stdout",
     "output_type": "stream",
     "text": [
      "5 is a prime number\n",
      "0 is 0 or 1\n",
      "4 is prime number 2  a factor of 4\n"
     ]
    }
   ],
   "source": [
    "\n",
    "\n",
    "def prime(n):\n",
    "    if(n<=1):\n",
    "        print(n ,\"is 0 or 1\")\n",
    "    else:\n",
    "        for i in range(2,n):\n",
    "            if(n%i==0):\n",
    "                print(n,\"is prime number\",i,\" a factor of\",n)\n",
    "                break\n",
    "        else:\n",
    "            print(n, \"is a prime number\")\n",
    "            \n",
    "    \n",
    "            \n",
    "        \n",
    "prime(5)\n",
    "prime(0)\n",
    "prime(4)\n",
    "\n"
   ]
  },
  {
   "cell_type": "markdown",
   "metadata": {},
   "source": [
    "<h3>reverse a string</h3>"
   ]
  },
  {
   "cell_type": "code",
   "execution_count": 18,
   "metadata": {},
   "outputs": [],
   "source": [
    "string =\"i love python\""
   ]
  },
  {
   "cell_type": "code",
   "execution_count": 19,
   "metadata": {},
   "outputs": [
    {
     "data": {
      "text/plain": [
       "'nohtyp evol i'"
      ]
     },
     "execution_count": 19,
     "metadata": {},
     "output_type": "execute_result"
    }
   ],
   "source": [
    "str_rev = string[::-1]\n",
    "str_rev"
   ]
  },
  {
   "cell_type": "markdown",
   "metadata": {},
   "source": [
    "<h3>writing a program to find max value of integer in a list </h3>"
   ]
  },
  {
   "cell_type": "code",
   "execution_count": 20,
   "metadata": {},
   "outputs": [],
   "source": [
    "def max_num(list):\n",
    "    if (len(list)>0): \n",
    "        max=list[0]\n",
    "        for i in list:\n",
    "            if i>max:\n",
    "                max = i\n",
    "    return print(\"maximum num is \",max)"
   ]
  },
  {
   "cell_type": "code",
   "execution_count": 21,
   "metadata": {},
   "outputs": [
    {
     "ename": "NameError",
     "evalue": "name 'b_list' is not defined",
     "output_type": "error",
     "traceback": [
      "\u001b[1;31m---------------------------------------------------------------------------\u001b[0m",
      "\u001b[1;31mNameError\u001b[0m                                 Traceback (most recent call last)",
      "Cell \u001b[1;32mIn[21], line 1\u001b[0m\n\u001b[1;32m----> 1\u001b[0m max_num(\u001b[43mb_list\u001b[49m)\n",
      "\u001b[1;31mNameError\u001b[0m: name 'b_list' is not defined"
     ]
    }
   ],
   "source": [
    "max_num(b_list)"
   ]
  },
  {
   "cell_type": "markdown",
   "metadata": {},
   "source": [
    "<h3>Write a program that takes a string and returns a new string with all the vowels removed.</h3>"
   ]
  },
  {
   "cell_type": "code",
   "execution_count": null,
   "metadata": {},
   "outputs": [],
   "source": [
    "str = \"Nihith Nath\"\n",
    "char_list = list(str)\n",
    "print(char_list)\n",
    "vowels=['a','e','i','o','u']\n",
    "def remove_vowel(alist):\n",
    "    \n",
    "    for char in alist:\n",
    "        if char in vowels:\n",
    "            alist.remove(char)\n",
    "            \n",
    "    \n",
    "    return print(alist)\n",
    "    \n",
    "\n",
    "remove_vowel(char_list)"
   ]
  },
  {
   "cell_type": "markdown",
   "metadata": {},
   "source": [
    "<h3>Write a program that takes a list of integers and returns the second largest number in the list.</h3>"
   ]
  },
  {
   "cell_type": "code",
   "execution_count": null,
   "metadata": {},
   "outputs": [],
   "source": [
    "a_list = [1,2,3,4,5]\n",
    "b_list=[5,8,2,77,34]\n",
    "length = len(b_list)\n",
    "b_list.sort()\n",
    "b_list[length-2]\n"
   ]
  },
  {
   "cell_type": "markdown",
   "metadata": {},
   "source": [
    "<h3>now without using inbuilt functions</h3>"
   ]
  },
  {
   "cell_type": "markdown",
   "metadata": {},
   "source": [
    "approach is iterating through the list twice and finding max num and the second max num in second iteration "
   ]
  },
  {
   "cell_type": "code",
   "execution_count": null,
   "metadata": {},
   "outputs": [],
   "source": [
    "b_list"
   ]
  },
  {
   "cell_type": "code",
   "execution_count": null,
   "metadata": {},
   "outputs": [],
   "source": [
    "def second_max_num(list):\n",
    "    if (len(list)>0): \n",
    "        max=list[0]\n",
    "        for i in list:\n",
    "            if i>max:\n",
    "                max = i\n",
    "\n",
    "        sec_max = list[0]\n",
    "\n",
    "        for i in list:\n",
    "            if (i<max and i>sec_max):\n",
    "                sec_max = i\n",
    "        return print(\"second largest number is \",sec_max)\n",
    "\n",
    "    else:\n",
    "        print(\"list size is 0\")\n"
   ]
  },
  {
   "cell_type": "code",
   "execution_count": null,
   "metadata": {},
   "outputs": [],
   "source": [
    "second_max_num(b_list)"
   ]
  },
  {
   "cell_type": "code",
   "execution_count": null,
   "metadata": {},
   "outputs": [],
   "source": [
    "c_list = [-5, -2, -9, -1, -4, -6, -3]\n",
    "second_max_num(c_list)"
   ]
  },
  {
   "cell_type": "code",
   "execution_count": null,
   "metadata": {},
   "outputs": [],
   "source": [
    "d_list=[]\n",
    "second_max_num(d_list)"
   ]
  },
  {
   "cell_type": "markdown",
   "metadata": {},
   "source": [
    "<h3>Write a function to check whether a given string is a palindrome.<h3>"
   ]
  },
  {
   "cell_type": "code",
   "execution_count": null,
   "metadata": {},
   "outputs": [],
   "source": [
    "my_string = ',\"Hello. World!\",'\n",
    "\n",
    "def remove_puntuations(str):\n",
    "    str = str.replace(',', '').replace('\"', '').replace('.', '').replace('!','').replace(' ','')\n",
    "    return str\n",
    "remove_puntuations(my_string)\n"
   ]
  },
  {
   "cell_type": "code",
   "execution_count": null,
   "metadata": {},
   "outputs": [],
   "source": [
    "palindrome =\"A man, a plan, a canal, Panama!\"\n",
    "\n",
    "def chk_plndrm(str):\n",
    "    chk_str = remove_puntuations(str).lower()\n",
    "    length= len(chk_str)\n",
    "    \n",
    "    print(length)\n",
    "    a=0\n",
    "    b=length-1\n",
    "    \n",
    "    for i in range(0,length//2):\n",
    "        if(chk_str[a]!=chk_str[b]):\n",
    "            return print(\"is not a palindrome\")\n",
    "            \n",
    "        else:\n",
    "            a=a+1\n",
    "            b=b-1\n",
    "    print(str, \" is a palindrome\")\n",
    "    \n",
    "    return chk_str\n",
    "      \n",
    "    "
   ]
  },
  {
   "cell_type": "code",
   "execution_count": null,
   "metadata": {},
   "outputs": [],
   "source": [
    "chk_plndrm(palindrome)"
   ]
  },
  {
   "cell_type": "code",
   "execution_count": null,
   "metadata": {},
   "outputs": [],
   "source": []
  },
  {
   "cell_type": "code",
   "execution_count": null,
   "metadata": {
    "scrolled": true
   },
   "outputs": [],
   "source": [
    "vroom='RaceCar'\n",
    "chk_plndrm(vroom)"
   ]
  },
  {
   "cell_type": "markdown",
   "metadata": {},
   "source": [
    "\n",
    "<h3>  Write a function to find the factorial of a given number.</h3>"
   ]
  },
  {
   "cell_type": "code",
   "execution_count": null,
   "metadata": {},
   "outputs": [],
   "source": [
    "a=7\n",
    "\n",
    "def factorial(num):\n",
    "    fact =1\n",
    "    for i in range(num,1,-1):\n",
    "        fact = fact*i\n",
    "    print(\"factorial of\", num, 'is', fact)\n",
    "    "
   ]
  },
  {
   "cell_type": "code",
   "execution_count": null,
   "metadata": {},
   "outputs": [],
   "source": [
    "factorial(a)\n",
    "factorial(5)\n",
    "factorial(20)"
   ]
  },
  {
   "cell_type": "markdown",
   "metadata": {},
   "source": [
    "<h3>Write a function to reverse a given List.  </h3>"
   ]
  },
  {
   "cell_type": "code",
   "execution_count": null,
   "metadata": {},
   "outputs": [],
   "source": [
    "def rev_list(list):\n",
    "    length= len(list)\n",
    "    start = 0\n",
    "    end = length-1\n",
    "    \n",
    "    while(start<end):\n",
    "        temp = list[end]\n",
    "        list[end]=list[start]\n",
    "        list[start]= temp\n",
    "        start+=1\n",
    "        end-=1\n",
    "    return  list\n"
   ]
  },
  {
   "cell_type": "code",
   "execution_count": null,
   "metadata": {},
   "outputs": [],
   "source": [
    "ant= [1,4,6]\n",
    "rev_list(ant)\n",
    "lst2 = [\"apple\", \"banana\", \"cherry\"]\n",
    "print(rev_list(lst2)) # [\"cherry\", \"banana\", \"apple\"]"
   ]
  },
  {
   "cell_type": "markdown",
   "metadata": {},
   "source": [
    "<h3>Write a function to reverse a given String.  </h3>"
   ]
  },
  {
   "cell_type": "code",
   "execution_count": null,
   "metadata": {},
   "outputs": [],
   "source": [
    "\n",
    "def rev_str(str):\n",
    "    length =len(str)\n",
    "    revstr=\"\"\n",
    "    for char in range(length-1,-1,-1):\n",
    "        revstr= revstr+str[char]\n",
    "    return revstr\n",
    "        \n",
    "        "
   ]
  },
  {
   "cell_type": "code",
   "execution_count": null,
   "metadata": {},
   "outputs": [],
   "source": [
    "rev_str(\"i like writing code in java, but i loved coding in python\")"
   ]
  },
  {
   "cell_type": "markdown",
   "metadata": {},
   "source": [
    "<h3>Write a function to remove duplicates from a list.  </h3>"
   ]
  },
  {
   "cell_type": "code",
   "execution_count": null,
   "metadata": {},
   "outputs": [],
   "source": [
    "list1 = [1,'nihith','nath',2,1,5,4,4,3,7,'python','love','python',6]\n",
    "\n",
    "aset= set(list1)\n",
    "aset\n",
    "alist = list(aset)\n",
    "alist"
   ]
  },
  {
   "cell_type": "code",
   "execution_count": null,
   "metadata": {},
   "outputs": [],
   "source": [
    "\n",
    "def remove_duplicates(lst):\n",
    "    new_lst=[]\n",
    "    for elem in lst:\n",
    "        if elem not in new_lst:\n",
    "            new_lst.append(elem)\n",
    "    \n",
    "    return new_lst"
   ]
  },
  {
   "cell_type": "code",
   "execution_count": null,
   "metadata": {},
   "outputs": [],
   "source": [
    "remove_duplicates(list1)"
   ]
  },
  {
   "cell_type": "markdown",
   "metadata": {},
   "source": [
    "<h3>Write a program to find the sum of all elements in a given list  </h3>"
   ]
  },
  {
   "cell_type": "code",
   "execution_count": null,
   "metadata": {},
   "outputs": [],
   "source": [
    "def sum_list(lst):\n",
    "    sum=0\n",
    "    for elem in lst:\n",
    "        sum+=elem\n",
    "    return sum"
   ]
  },
  {
   "cell_type": "code",
   "execution_count": null,
   "metadata": {},
   "outputs": [],
   "source": [
    "a_list=[1,3,4,5,6,8,9]\n",
    "sum_list(a_list)\n"
   ]
  },
  {
   "cell_type": "markdown",
   "metadata": {},
   "source": [
    "\n",
    "<h3>Write a program to find the average of all elements in a given list. </h3>"
   ]
  },
  {
   "cell_type": "code",
   "execution_count": null,
   "metadata": {},
   "outputs": [],
   "source": [
    "def avg_list(lst):\n",
    "    sum=0\n",
    "    for elem in lst:\n",
    "        sum+=elem\n",
    "    avg= sum/len(lst)\n",
    "    return avg"
   ]
  },
  {
   "cell_type": "code",
   "execution_count": null,
   "metadata": {},
   "outputs": [],
   "source": [
    "avg_list(a_list)"
   ]
  },
  {
   "cell_type": "markdown",
   "metadata": {},
   "source": [
    "\n",
    "<h3>Write a program to find the median of all elements in a given list. </h3>"
   ]
  },
  {
   "cell_type": "code",
   "execution_count": null,
   "metadata": {},
   "outputs": [],
   "source": [
    "def median_list(lst):\n",
    "    lst.sort()\n",
    "    l=len(lst)\n",
    "    median =0\n",
    "    if l>0:\n",
    "        if l%2!=0:\n",
    "            median=lst[l//2]\n",
    "        elif(l%2==0):\n",
    "            mid=l//2\n",
    "            median = (lst[mid]+lst[mid-1])/2\n",
    "    \n",
    "    return median\n",
    "        "
   ]
  },
  {
   "cell_type": "code",
   "execution_count": null,
   "metadata": {},
   "outputs": [],
   "source": [
    "a_list=[1,3,4,5,6,8,9,7,44,3]\n",
    "a_list.sort()\n",
    "a_list\n"
   ]
  },
  {
   "cell_type": "code",
   "execution_count": null,
   "metadata": {},
   "outputs": [],
   "source": [
    "median_list(a_list)\n",
    "#f =[1, 1, 8, 8, 999, 999]\n",
    "median_list(f)"
   ]
  },
  {
   "cell_type": "markdown",
   "metadata": {},
   "source": [
    "\n",
    "<h3>Write a program to find the mode of all elements in a given list </h3>"
   ]
  },
  {
   "cell_type": "code",
   "execution_count": null,
   "metadata": {},
   "outputs": [],
   "source": [
    "def mode_list(lst):\n",
    "    l = len(lst)\n",
    "    dict= {key: lst.count(key) for key in lst}\n",
    "    max_val= max(dict.values())\n",
    "    for key in dict:\n",
    "        if dict[key]==max_val:\n",
    "             print(key, \"is mode for list\")\n",
    "            "
   ]
  },
  {
   "cell_type": "code",
   "execution_count": 22,
   "metadata": {},
   "outputs": [
    {
     "name": "stdout",
     "output_type": "stream",
     "text": [
      "1 is mode for list\n",
      "2 is mode for list\n",
      "3 is mode for list\n",
      "4 is mode for list\n"
     ]
    }
   ],
   "source": [
    "p=[1,2,3,4]\n",
    "mode_list(p)"
   ]
  },
  {
   "cell_type": "code",
   "execution_count": 23,
   "metadata": {},
   "outputs": [
    {
     "name": "stdout",
     "output_type": "stream",
     "text": [
      "2 is mode for list\n"
     ]
    }
   ],
   "source": [
    "q=[1,4,2,3,2,2,5,7]\n",
    "mode_list(q)"
   ]
  },
  {
   "cell_type": "code",
   "execution_count": null,
   "metadata": {},
   "outputs": [],
   "source": []
  }
 ],
 "metadata": {
  "kernelspec": {
   "display_name": "Python 3 (ipykernel)",
   "language": "python",
   "name": "python3"
  },
  "language_info": {
   "codemirror_mode": {
    "name": "ipython",
    "version": 3
   },
   "file_extension": ".py",
   "mimetype": "text/x-python",
   "name": "python",
   "nbconvert_exporter": "python",
   "pygments_lexer": "ipython3",
   "version": "3.10.10"
  }
 },
 "nbformat": 4,
 "nbformat_minor": 4
}
